{
 "cells": [
  {
   "cell_type": "markdown",
   "id": "3e07f17a",
   "metadata": {},
   "source": [
    "# PA-3: Working with Lists and Tuples\n",
    "## Jameson Buie\n",
    "## Version 1\n",
    "## CS-150-01 Spring 2023\n"
   ]
  },
  {
   "cell_type": "markdown",
   "id": "9e6eed35",
   "metadata": {},
   "source": [
    "# i. append()\n",
    "### Append is used to add an item at the end of a list. Access the list by typing the list name, then adding \".append()\" after it. Finally, enter a number or a string in the parentheses to add that new element to your list"
   ]
  },
  {
   "cell_type": "code",
   "execution_count": 1,
   "id": "2d7d8553",
   "metadata": {},
   "outputs": [
    {
     "name": "stdout",
     "output_type": "stream",
     "text": [
      "['Pinto']\n"
     ]
    }
   ],
   "source": [
    "beans= list()\n",
    "beans.append(\"Pinto\")\n",
    "print(beans)"
   ]
  },
  {
   "cell_type": "markdown",
   "id": "fececc5c",
   "metadata": {},
   "source": [
    "# ii. extend()\n",
    "### Extend is used to add the items from one list onto the end of another list that already contains several items. We can extend a list by typing the name of the list, then adding \".extend()\". In the parentheses, type the name of the list that you would like to add to your already called list. This will then change the originally called list to include all elements from both lists when the new list is printed and ran."
   ]
  },
  {
   "cell_type": "code",
   "execution_count": 2,
   "id": "6e9fefe2",
   "metadata": {},
   "outputs": [
    {
     "data": {
      "text/plain": [
       "[1, 2, 3, 4]"
      ]
     },
     "execution_count": 2,
     "metadata": {},
     "output_type": "execute_result"
    }
   ],
   "source": [
    "numbers=[1,2,3,4]\n",
    "numbers"
   ]
  },
  {
   "cell_type": "code",
   "execution_count": 3,
   "id": "08c1dbce",
   "metadata": {},
   "outputs": [
    {
     "data": {
      "text/plain": [
       "[5, 6]"
      ]
     },
     "execution_count": 3,
     "metadata": {},
     "output_type": "execute_result"
    }
   ],
   "source": [
    "numbers2=[5,6]\n",
    "numbers2"
   ]
  },
  {
   "cell_type": "code",
   "execution_count": 4,
   "id": "d04d23d4",
   "metadata": {},
   "outputs": [
    {
     "name": "stdout",
     "output_type": "stream",
     "text": [
      "[1, 2, 3, 4, 5, 6]\n"
     ]
    }
   ],
   "source": [
    "numbers.extend(numbers2)\n",
    "print(numbers)"
   ]
  },
  {
   "cell_type": "markdown",
   "id": "b0ec0721",
   "metadata": {},
   "source": [
    "# iii. insert()\n",
    "### Insert is used to add an element in a list at any point in the list, not just at the end. This can be done by accessing the index at which you would would like to insert your new element into the list. \n",
    "### Type the list name then add \".insert()\" with the index you would like to insert your element followed by a comma and a new string or integer that you would like to insert."
   ]
  },
  {
   "cell_type": "code",
   "execution_count": 5,
   "id": "f043df3b",
   "metadata": {},
   "outputs": [
    {
     "name": "stdout",
     "output_type": "stream",
     "text": [
      "['Brad', 'Chad', 'Eric', 'Thad']\n"
     ]
    }
   ],
   "source": [
    "names = [\"Brad\",\"Chad\",\"Thad\"]\n",
    "names.insert(2,\"Eric\")\n",
    "print(names)"
   ]
  },
  {
   "cell_type": "markdown",
   "id": "23d42867",
   "metadata": {},
   "source": [
    "# iv. remove()\n",
    "### Remove is used to directly access an element in a list and get rid of it. It cannot be done by accessing the index.\n",
    "### First, type the name of the list, then follow it with \".remove()\" and enter the item from the list that you would like to remove"
   ]
  },
  {
   "cell_type": "code",
   "execution_count": 6,
   "id": "cfe00647",
   "metadata": {},
   "outputs": [
    {
     "name": "stdout",
     "output_type": "stream",
     "text": [
      "['Breaking Bad', 'Family Guy', 'Outer Banks']\n"
     ]
    }
   ],
   "source": [
    "shows= [\"Breaking Bad\",\"Family Guy\",\"Outer Banks\",\"Lost\"]\n",
    "shows.remove(\"Lost\")\n",
    "print(shows)"
   ]
  },
  {
   "cell_type": "markdown",
   "id": "8614d588",
   "metadata": {},
   "source": [
    "# v. count()\n",
    "### Count is used to find the number of times a specific element is included in a list. \"listName.count()\" will return the number of times whatever specified value you enter in the parentheses is in the list."
   ]
  },
  {
   "cell_type": "code",
   "execution_count": 7,
   "id": "660359f2",
   "metadata": {},
   "outputs": [
    {
     "data": {
      "text/plain": [
       "2"
      ]
     },
     "execution_count": 7,
     "metadata": {},
     "output_type": "execute_result"
    }
   ],
   "source": [
    "animals=[\"Wolf\",\"Bear\",\"Wolf\",\"Dragon\",\"Axlotl\"]\n",
    "animals.count(\"Wolf\") #This will help me see that Wolf is in the list twice"
   ]
  },
  {
   "cell_type": "markdown",
   "id": "1262344b",
   "metadata": {},
   "source": [
    "# vi. index()\n",
    "### Index is used to find the index of the first appearance of an element in a list when it is searched for with this method. \n",
    "### Access the list then add \".index()\" with a specific element in the parenthese and the function will return the index of the element when it first appears in the list"
   ]
  },
  {
   "cell_type": "code",
   "execution_count": 8,
   "id": "3d2fb282",
   "metadata": {},
   "outputs": [
    {
     "data": {
      "text/plain": [
       "2"
      ]
     },
     "execution_count": 8,
     "metadata": {},
     "output_type": "execute_result"
    }
   ],
   "source": [
    "colors=[\"Blue\",\"Red\",\"Yellow\",\"Orange\",\"Green\"]\n",
    "colors.index(\"Yellow\") # Yellow is at the index of 2"
   ]
  },
  {
   "cell_type": "markdown",
   "id": "87491de5",
   "metadata": {},
   "source": [
    "# vii. pop()\n",
    "### Pop is used to remove an element in a list in 2 different ways. You can use it to remove the element at the end of the list by keeping the parentheses empty or by adding the index of the element you want to remove in the parentheses."
   ]
  },
  {
   "cell_type": "code",
   "execution_count": 9,
   "id": "2d77e430",
   "metadata": {},
   "outputs": [
    {
     "name": "stdout",
     "output_type": "stream",
     "text": [
      "['Cheddar', 'Oaxaca', 'Gouda', 'Mozzarella', 'Feta']\n"
     ]
    }
   ],
   "source": [
    "cheese=[\"Cheddar\",\"Oaxaca\",\"Gouda\",\"Mozzarella\",\"Feta\" ]\n",
    "print(cheese)"
   ]
  },
  {
   "cell_type": "code",
   "execution_count": 10,
   "id": "47e5f4cc",
   "metadata": {},
   "outputs": [
    {
     "name": "stdout",
     "output_type": "stream",
     "text": [
      "['Cheddar', 'Oaxaca', 'Gouda', 'Mozzarella']\n"
     ]
    }
   ],
   "source": [
    "cheese.pop() # Pop is used to remove the last element in the list, Feta\n",
    "print(cheese)"
   ]
  },
  {
   "cell_type": "code",
   "execution_count": 11,
   "id": "374e8bb2",
   "metadata": {},
   "outputs": [
    {
     "name": "stdout",
     "output_type": "stream",
     "text": [
      "Gouda\n",
      "['Cheddar', 'Oaxaca', 'Mozzarella']\n"
     ]
    }
   ],
   "source": [
    "print(cheese.pop(-2)) \n",
    "print(cheese) # Pop was used to remove the secong to last item, Gouda"
   ]
  },
  {
   "cell_type": "markdown",
   "id": "a792e886",
   "metadata": {},
   "source": [
    "# vii. sorted()\n",
    "### Sorted is used to temporarily sort the items in a list from least to greatest if they are numbers or in alphabetical order if they are letters.\n",
    "### Sorted only sorts the elements in a list for the one time the list is called when the function is ran. If the list is called again, it will return to its original order"
   ]
  },
  {
   "cell_type": "code",
   "execution_count": 13,
   "id": "08debef6",
   "metadata": {},
   "outputs": [
    {
     "data": {
      "text/plain": [
       "[3, 23, 45, 78, 98, 157]"
      ]
     },
     "execution_count": 13,
     "metadata": {},
     "output_type": "execute_result"
    }
   ],
   "source": [
    "numbers=[23,45,78,157,3,98]\n",
    "sorted(numbers) # Prints the numbers from least to greatest"
   ]
  },
  {
   "cell_type": "code",
   "execution_count": 14,
   "id": "67bc6392",
   "metadata": {},
   "outputs": [
    {
     "name": "stdout",
     "output_type": "stream",
     "text": [
      "[23, 45, 78, 157, 3, 98]\n"
     ]
    }
   ],
   "source": [
    "print(numbers) # The numbers are not sorted anymore"
   ]
  },
  {
   "cell_type": "markdown",
   "id": "cdd7af65",
   "metadata": {},
   "source": [
    "# ix. copy()\n",
    "### Copy is used to copy all of the elements from one list into a new list. The original list will remain the same, but the new list can then be manipulated to change the elements by adding, removing, etc.\n",
    "### You can set the \"list.copy()\" equal to a variable, which will be the name of the new list that is created"
   ]
  },
  {
   "cell_type": "code",
   "execution_count": 16,
   "id": "7d848da7",
   "metadata": {},
   "outputs": [
    {
     "name": "stdout",
     "output_type": "stream",
     "text": [
      "['Baseball', 'Football', 'Basketball', 'Wrestling', 'Golf']\n"
     ]
    }
   ],
   "source": [
    "sports=[\"Baseball\",\"Football\",\"Basketball\",\"Wrestling\",\"Golf\"]\n",
    "print(sports)"
   ]
  },
  {
   "cell_type": "code",
   "execution_count": 19,
   "id": "651c0cbf",
   "metadata": {},
   "outputs": [
    {
     "name": "stdout",
     "output_type": "stream",
     "text": [
      "['Baseball', 'Football', 'Basketball', 'Wrestling', 'Golf']\n"
     ]
    }
   ],
   "source": [
    "newSports = sports.copy() # Created new list from old list\n",
    "print(newSports)"
   ]
  },
  {
   "cell_type": "code",
   "execution_count": 20,
   "id": "bc081bce",
   "metadata": {},
   "outputs": [
    {
     "name": "stdout",
     "output_type": "stream",
     "text": [
      "['Baseball', 'Football', 'Basketball', 'Wrestling']\n"
     ]
    }
   ],
   "source": [
    "newSports.pop() # Removed golf from new list of sports\n",
    "print(newSports)"
   ]
  },
  {
   "cell_type": "markdown",
   "id": "2493d309",
   "metadata": {},
   "source": [
    "# x. clear()\n",
    "### Clear is used to remove all items from a list. State the list name and then follow it with \".clear()\" to remove all the items from the list.\n",
    "### The list is not deleted entirely, it still remains as an empty list"
   ]
  },
  {
   "cell_type": "code",
   "execution_count": 21,
   "id": "498b1fb9",
   "metadata": {},
   "outputs": [
    {
     "name": "stdout",
     "output_type": "stream",
     "text": [
      "['Monday', 'Tuesday', 'Wednesday', 'Friday', 'Saturday']\n"
     ]
    }
   ],
   "source": [
    "days=[\"Monday\",\"Tuesday\",\"Wednesday\",\"Friday\",\"Saturday\"]\n",
    "print(days)"
   ]
  },
  {
   "cell_type": "code",
   "execution_count": 22,
   "id": "4f87c0bc",
   "metadata": {},
   "outputs": [
    {
     "name": "stdout",
     "output_type": "stream",
     "text": [
      "[]\n"
     ]
    }
   ],
   "source": [
    "days.clear() # Removes all elements from the list\n",
    "print(days) # Shows that we are left with an empty list"
   ]
  },
  {
   "cell_type": "markdown",
   "id": "41071b7e",
   "metadata": {},
   "source": [
    "# xi. list()\n",
    "### This function is used to create a list. By setting it equal to a variable, an empty list will be created with the name of the variable"
   ]
  },
  {
   "cell_type": "code",
   "execution_count": 23,
   "id": "7a98b217",
   "metadata": {},
   "outputs": [
    {
     "name": "stdout",
     "output_type": "stream",
     "text": [
      "[]\n"
     ]
    }
   ],
   "source": [
    "newList = list()\n",
    "print(newList)"
   ]
  },
  {
   "cell_type": "markdown",
   "id": "1275434f",
   "metadata": {},
   "source": [
    "# Part B"
   ]
  },
  {
   "cell_type": "markdown",
   "id": "609998bf",
   "metadata": {},
   "source": [
    "# i. len()\n",
    "### This method can be used to determine how many items are in a list or a tuple. When you run \"len()\" with the name of the list inside the parentheses, the number of items in the list is returned. "
   ]
  },
  {
   "cell_type": "code",
   "execution_count": 26,
   "id": "9b6f6801",
   "metadata": {},
   "outputs": [
    {
     "data": {
      "text/plain": [
       "6"
      ]
     },
     "execution_count": 26,
     "metadata": {},
     "output_type": "execute_result"
    }
   ],
   "source": [
    "subjects=(\"Math\",\"English\",\"Science\",\"History\",\"Health\",\"Art\")\n",
    "len(subjects)"
   ]
  },
  {
   "cell_type": "markdown",
   "id": "9bfe1b0b",
   "metadata": {},
   "source": [
    "# ii. max()\n",
    "### The Max method is used to find the largest item in a tuple based on the size of a number or alphabeitcal order of a string. Larger numbers will be closer to being the maximum, while letters have a greater value than numbers.\n",
    "### Lowercase letters have a greater value than uppercase letters"
   ]
  },
  {
   "cell_type": "code",
   "execution_count": 34,
   "id": "8690369a",
   "metadata": {},
   "outputs": [
    {
     "data": {
      "text/plain": [
       "'peter'"
      ]
     },
     "execution_count": 34,
     "metadata": {},
     "output_type": "execute_result"
    }
   ],
   "source": [
    "tuple=(\"peter\",\"Abby\",\"joe\",\"Bart\")\n",
    "max(tuple) # returns the name that starts with the largest valued letter"
   ]
  },
  {
   "cell_type": "code",
   "execution_count": 35,
   "id": "acc33271",
   "metadata": {},
   "outputs": [
    {
     "data": {
      "text/plain": [
       "895"
      ]
     },
     "execution_count": 35,
     "metadata": {},
     "output_type": "execute_result"
    }
   ],
   "source": [
    "numberTup=(1,45,78,895,34)\n",
    "max(numberTup) # returns the largest number"
   ]
  },
  {
   "cell_type": "markdown",
   "id": "ebc8dbec",
   "metadata": {},
   "source": [
    "# iii. min()\n",
    "### The Min function is ues to find the smallest item in a tuple based on the size of a number or alphabetical order on a string. Uppercase letters have a smaller value than uppercase letters"
   ]
  },
  {
   "cell_type": "code",
   "execution_count": 36,
   "id": "8dc32d1d",
   "metadata": {},
   "outputs": [
    {
     "data": {
      "text/plain": [
       "'Abby'"
      ]
     },
     "execution_count": 36,
     "metadata": {},
     "output_type": "execute_result"
    }
   ],
   "source": [
    "tuple=(\"peter\",\"Abby\",\"joe\",\"Bart\")\n",
    "min(tuple) # returns the name that starts with the smalles valued letter"
   ]
  },
  {
   "cell_type": "code",
   "execution_count": 37,
   "id": "4706522b",
   "metadata": {},
   "outputs": [
    {
     "data": {
      "text/plain": [
       "1"
      ]
     },
     "execution_count": 37,
     "metadata": {},
     "output_type": "execute_result"
    }
   ],
   "source": [
    "numberTup=(1,45,78,895,34)\n",
    "min(numberTup) # returns the smallest number in the tuple"
   ]
  },
  {
   "cell_type": "markdown",
   "id": "00ce5072",
   "metadata": {},
   "source": []
  }
 ],
 "metadata": {
  "kernelspec": {
   "display_name": "Python 3 (ipykernel)",
   "language": "python",
   "name": "python3"
  },
  "language_info": {
   "codemirror_mode": {
    "name": "ipython",
    "version": 3
   },
   "file_extension": ".py",
   "mimetype": "text/x-python",
   "name": "python",
   "nbconvert_exporter": "python",
   "pygments_lexer": "ipython3",
   "version": "3.9.13"
  }
 },
 "nbformat": 4,
 "nbformat_minor": 5
}
